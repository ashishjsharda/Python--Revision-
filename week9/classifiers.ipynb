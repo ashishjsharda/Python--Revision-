{
  "nbformat": 4,
  "nbformat_minor": 0,
  "metadata": {
    "colab": {
      "provenance": []
    },
    "kernelspec": {
      "name": "python3",
      "display_name": "Python 3"
    },
    "language_info": {
      "name": "python"
    }
  },
  "cells": [
    {
      "cell_type": "code",
      "source": [
        "from sklearn.naive_bayes import GaussianNB\n",
        "import numpy as np\n",
        "\n",
        "# Random features and labels\n",
        "X = np.random.rand(10, 4)   # 10 samples, 4 features\n",
        "y = np.random.randint(0, 2, size=10)  # Binary labels (0 or 1)\n",
        "\n",
        "model = GaussianNB()\n",
        "model.fit(X, y)\n",
        "print(model.predict([X[0]]))\n"
      ],
      "metadata": {
        "id": "zyRgAqjNgGpg",
        "outputId": "0bc0eecb-3fa3-46f9-8b7c-de835b550e8b",
        "colab": {
          "base_uri": "https://localhost:8080/"
        }
      },
      "execution_count": null,
      "outputs": [
        {
          "output_type": "stream",
          "name": "stdout",
          "text": [
            "[0]\n"
          ]
        }
      ]
    },
    {
      "cell_type": "code",
      "source": [
        "import numpy as np\n",
        "from sklearn.tree import DecisionTreeClassifier\n",
        "\n",
        "# Create a small dataset with 3 features and 5 samples\n",
        "X = np.array([\n",
        "    [5.1, 3.5, 1.4],\n",
        "    [4.9, 3.0, 1.4],\n",
        "    [6.7, 3.1, 4.7],\n",
        "    [5.6, 2.5, 3.9],\n",
        "    [7.2, 3.6, 6.1]\n",
        "])\n",
        "\n",
        "# Corresponding labels\n",
        "y = np.array([0, 0, 1, 1, 2])\n",
        "\n",
        "# Train a Decision Tree model\n",
        "model = DecisionTreeClassifier()\n",
        "model.fit(X, y)\n",
        "\n",
        "# Predict the class of a new sample\n",
        "print(model.predict([[5.0, 3.4, 1.5]]))\n"
      ],
      "metadata": {
        "colab": {
          "base_uri": "https://localhost:8080/"
        },
        "id": "HkXkebEWM9JP",
        "outputId": "318fe6fa-2b2d-4d8f-9cf2-4676a2be411a"
      },
      "execution_count": 1,
      "outputs": [
        {
          "output_type": "stream",
          "name": "stdout",
          "text": [
            "[0]\n"
          ]
        }
      ]
    },
    {
      "cell_type": "code",
      "source": [
        "import numpy as np\n",
        "from sklearn.neighbors import KNeighborsClassifier\n",
        "\n",
        "# Step 1: Create features (X) and labels (y)\n",
        "X = np.array([\n",
        "    [1.0, 2.0],\n",
        "    [1.5, 1.8],\n",
        "    [5.0, 8.0],\n",
        "    [6.0, 9.0],\n",
        "    [1.2, 0.8]\n",
        "])\n",
        "\n",
        "y = np.array([0, 0, 1, 1, 0])  # 0 = Class A, 1 = Class B\n",
        "\n",
        "# Step 2: Create and train the KNN model\n",
        "model = KNeighborsClassifier(n_neighbors=3)\n",
        "model.fit(X, y)\n",
        "\n",
        "# Step 3: Make a prediction on new data\n",
        "sample = np.array([[1.1, 1.0]])  # A new point we want to classify\n",
        "prediction = model.predict(sample)\n",
        "\n",
        "print(\"Predicted class:\", prediction[0])\n"
      ],
      "metadata": {
        "colab": {
          "base_uri": "https://localhost:8080/"
        },
        "id": "5Nm-9bRINZ-E",
        "outputId": "76c75bf8-b1de-443c-a6e7-7020fb3a54d5"
      },
      "execution_count": 2,
      "outputs": [
        {
          "output_type": "stream",
          "name": "stdout",
          "text": [
            "Predicted class: 0\n"
          ]
        }
      ]
    }
  ]
}