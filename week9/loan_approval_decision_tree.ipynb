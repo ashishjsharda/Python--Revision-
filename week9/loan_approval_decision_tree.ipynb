{
  "nbformat": 4,
  "nbformat_minor": 0,
  "metadata": {
    "colab": {
      "provenance": []
    },
    "kernelspec": {
      "name": "python3",
      "display_name": "Python 3"
    },
    "language_info": {
      "name": "python"
    }
  },
  "cells": [
    {
      "cell_type": "code",
      "execution_count": 1,
      "metadata": {
        "colab": {
          "base_uri": "https://localhost:8080/"
        },
        "id": "pblT7n1Uvw8O",
        "outputId": "df9f59fe-d577-4b8c-dcf3-3fb0d9bb3183"
      },
      "outputs": [
        {
          "output_type": "stream",
          "name": "stdout",
          "text": [
            "Loan Approval: Approved ✅\n"
          ]
        }
      ],
      "source": [
        "from sklearn.tree import DecisionTreeClassifier\n",
        "import numpy as np\n",
        "\n",
        "# Features: [Credit Score, Income (in $1000s), Existing Debt (in $1000s)]\n",
        "X = np.array([\n",
        "    [700, 50, 5],   # Good credit, good income, low debt => Approve\n",
        "    [600, 30, 10],  # Average credit, low income, moderate debt => Reject\n",
        "    [750, 80, 20],  # Excellent credit, high income, high debt => Approve\n",
        "    [580, 25, 5],   # Low credit, low income => Reject\n",
        "    [690, 40, 2]    # Decent credit, average income, low debt => Approve\n",
        "])\n",
        "\n",
        "# Labels: 1 = Approved, 0 = Rejected\n",
        "y = np.array([1, 0, 1, 0, 1])\n",
        "\n",
        "# Train Decision Tree model\n",
        "model = DecisionTreeClassifier()\n",
        "model.fit(X, y)\n",
        "\n",
        "# Predict for a new borrower\n",
        "new_borrower = np.array([[680, 45, 3]])  # Good credit, decent income, low debt\n",
        "prediction = model.predict(new_borrower)\n",
        "\n",
        "print(\"Loan Approval:\" , \"Approved ✅\" if prediction[0] == 1 else \"Rejected ❌\")\n"
      ]
    },
    {
      "cell_type": "code",
      "source": [
        "import pandas as pd\n",
        "from sklearn.tree import DecisionTreeClassifier\n",
        "\n",
        "# Load the dataset\n",
        "df = pd.read_csv('borrower_data.csv')\n",
        "\n",
        "# Split features and label\n",
        "X = df[['credit_score', 'income', 'debt']]\n",
        "y = df['approved']\n",
        "\n",
        "# Train the Decision Tree model\n",
        "model = DecisionTreeClassifier()\n",
        "model.fit(X, y)\n",
        "\n",
        "# Predict for a new borrower\n",
        "new_borrower = pd.DataFrame([{\n",
        "    'credit_score': 685,\n",
        "    'income': 42,\n",
        "    'debt': 4\n",
        "}])\n",
        "\n",
        "prediction = model.predict(new_borrower)\n",
        "\n",
        "print(\"Loan Approval:\", \"Approved ✅\" if prediction[0] == 1 else \"Rejected ❌\")\n"
      ],
      "metadata": {
        "colab": {
          "base_uri": "https://localhost:8080/"
        },
        "id": "bWGUmDwpWmSH",
        "outputId": "48243498-6af4-4ae0-88f5-096184b2a6e0"
      },
      "execution_count": 3,
      "outputs": [
        {
          "output_type": "stream",
          "name": "stdout",
          "text": [
            "Loan Approval: Approved ✅\n"
          ]
        }
      ]
    }
  ]
}