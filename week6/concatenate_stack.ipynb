{
  "nbformat": 4,
  "nbformat_minor": 0,
  "metadata": {
    "colab": {
      "provenance": []
    },
    "kernelspec": {
      "name": "python3",
      "display_name": "Python 3"
    },
    "language_info": {
      "name": "python"
    }
  },
  "cells": [
    {
      "cell_type": "code",
      "source": [
        "import numpy as np\n",
        "a = np.array([1, 2, 3])\n",
        "b = np.array([4, 5, 6])\n",
        "\n",
        "# Concatenate\n",
        "concat = np.concatenate([a, b])\n",
        "print(concat)  # [1 2 3 4 5 6]\n",
        "\n",
        "# Stack\n",
        "vertical = np.vstack([a, b])    # Stack vertically\n",
        "horizontal = np.hstack([a, b])  # Stack horizontally\n",
        "\n",
        "print(vertical)\n",
        "# [[1 2 3]\n",
        "#  [4 5 6]]\n",
        "\n",
        "print(horizontal)  # [1 2 3 4 5 6]"
      ],
      "metadata": {
        "colab": {
          "base_uri": "https://localhost:8080/"
        },
        "id": "JDFUQyIAbLkL",
        "outputId": "a211c3e2-9949-40ea-e1ad-f0fb6e81f5ed"
      },
      "execution_count": 1,
      "outputs": [
        {
          "output_type": "stream",
          "name": "stdout",
          "text": [
            "[1 2 3 4 5 6]\n",
            "[[1 2 3]\n",
            " [4 5 6]]\n",
            "[1 2 3 4 5 6]\n"
          ]
        }
      ]
    }
  ]
}