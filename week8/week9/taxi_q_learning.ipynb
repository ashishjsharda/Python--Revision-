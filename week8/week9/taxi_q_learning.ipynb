{
  "nbformat": 4,
  "nbformat_minor": 0,
  "metadata": {
    "colab": {
      "provenance": []
    },
    "kernelspec": {
      "name": "python3",
      "display_name": "Python 3"
    },
    "language_info": {
      "name": "python"
    }
  },
  "cells": [
    {
      "cell_type": "code",
      "execution_count": 1,
      "metadata": {
        "id": "uLXCxot8MlWA",
        "colab": {
          "base_uri": "https://localhost:8080/"
        },
        "outputId": "b76ad159-f5a2-4ef6-b2ef-11d798544e54"
      },
      "outputs": [
        {
          "output_type": "stream",
          "name": "stdout",
          "text": [
            "Requirement already satisfied: gym in /usr/local/lib/python3.11/dist-packages (0.25.2)\n",
            "Requirement already satisfied: numpy>=1.18.0 in /usr/local/lib/python3.11/dist-packages (from gym) (2.0.2)\n",
            "Requirement already satisfied: cloudpickle>=1.2.0 in /usr/local/lib/python3.11/dist-packages (from gym) (3.1.1)\n",
            "Requirement already satisfied: gym-notices>=0.0.4 in /usr/local/lib/python3.11/dist-packages (from gym) (0.0.8)\n"
          ]
        }
      ],
      "source": [
        "!pip install gym\n"
      ]
    },
    {
      "cell_type": "code",
      "source": [
        "import gym\n",
        "import numpy as np\n",
        "\n",
        "env = gym.make(\"Taxi-v3\")\n",
        "\n",
        "# Initialize Q-table\n",
        "Q = np.zeros((env.observation_space.n, env.action_space.n))\n",
        "\n",
        "# Q-learning loop\n",
        "for _ in range(10000):\n",
        "    s, info = env.reset() # New API: reset() returns state and info\n",
        "    done = False\n",
        "    while not done:\n",
        "        # Epsilon-greedy action selection\n",
        "        a = env.action_space.sample() if np.random.rand() < 0.1 else np.argmax(Q[s])\n",
        "\n",
        "        # Take action\n",
        "        s_, r, terminated, truncated, info = env.step(a) # New API: step returns 5 values\n",
        "        done = terminated or truncated\n",
        "\n",
        "        # Q-learning update\n",
        "        Q[s, a] += 0.1 * (r + 0.6 * np.max(Q[s_]) - Q[s, a])\n",
        "        s = s_\n",
        "\n",
        "print(\"Sample Q-values (first 5 states):\\n\", Q[:5])"
      ],
      "metadata": {
        "colab": {
          "base_uri": "https://localhost:8080/"
        },
        "id": "CSE8QJBHaSJA",
        "outputId": "884d0012-677a-4942-c9b0-95f9fbc454fb"
      },
      "execution_count": 2,
      "outputs": [
        {
          "output_type": "stream",
          "name": "stdout",
          "text": [
            "Sample Q-values (first 5 states):\n",
            " [[  0.           0.           0.           0.           0.\n",
            "    0.        ]\n",
            " [ -2.40099843  -2.34383791  -2.39871908  -2.35005436  -2.27325184\n",
            "  -10.30010423]\n",
            " [ -1.83719578  -1.4901389   -1.88098604  -1.4875868   -0.7504\n",
            "   -9.56526011]\n",
            " [ -2.30949854  -2.26579575  -2.30937455  -2.25540382  -2.1220864\n",
            "  -10.236825  ]\n",
            " [ -2.49453554  -2.49447909  -2.49446503  -2.4944985   -9.23105487\n",
            "   -9.84261546]]\n"
          ]
        }
      ]
    }
  ]
}