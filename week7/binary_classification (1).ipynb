{
  "nbformat": 4,
  "nbformat_minor": 0,
  "metadata": {
    "colab": {
      "provenance": []
    },
    "kernelspec": {
      "name": "python3",
      "display_name": "Python 3"
    },
    "language_info": {
      "name": "python"
    }
  },
  "cells": [
    {
      "cell_type": "code",
      "source": [
        "import numpy as np\n",
        "\n",
        "# Temperatures (features)\n",
        "temperatures = np.array([60, 70, 80, 90, 75, 85])\n",
        "# Labels (0 for cold, 1 for hot)\n",
        "feels_hot = np.array([0, 0, 1, 1, 0, 1])\n",
        "\n",
        "print(\"Temperatures:\", temperatures)\n",
        "print(\"Feels Hot (0=Cold, 1=Hot):\", feels_hot)"
      ],
      "metadata": {
        "colab": {
          "base_uri": "https://localhost:8080/"
        },
        "id": "NQqoC-MkRcLh",
        "outputId": "f9ec8590-dbb8-445d-c2cc-cd551e29889d"
      },
      "execution_count": null,
      "outputs": [
        {
          "output_type": "stream",
          "name": "stdout",
          "text": [
            "Temperatures: [60 70 80 90 75 85]\n",
            "Feels Hot (0=Cold, 1=Hot): [0 0 1 1 0 1]\n"
          ]
        }
      ]
    },
    {
      "cell_type": "code",
      "source": [
        "# Our \"learned\" rule: if temp > 78, it's hot\n",
        "threshold = 78\n",
        "# New temperatures to predict\n",
        "new_temperatures = np.array([65, 82, 78, 72])\n",
        "\n",
        "print(\"\\nNew Temperatures to predict:\", new_temperatures)\n",
        "\n",
        "predicted_labels = (new_temperatures > threshold).astype(int)\n",
        "# Convert back to 'Hot'/'Cold'\n",
        "predicted_words = np.where(predicted_labels == 1, \"Hot\", \"Cold\")\n",
        "\n",
        "print(\"Predicted Labels (0=Cold, 1=Hot):\", predicted_labels)\n",
        "print(\"Predicted: \", predicted_words)\n",
        "\n",
        "our_predictions = (temperatures > threshold).astype(int)\n",
        "correct_predictions = np.sum(our_predictions == feels_hot)\n",
        "accuracy = correct_predictions / len(temperatures) * 100\n",
        "print(f\"\\nOur rule correctly predicted {correct_predictions} out of {len(temperatures)} (Accuracy: {accuracy:.2f}%)\")"
      ],
      "metadata": {
        "colab": {
          "base_uri": "https://localhost:8080/"
        },
        "id": "F-2VkYkqRnYK",
        "outputId": "3a3cd43c-a75b-4df2-e49d-c927fbb68328"
      },
      "execution_count": 4,
      "outputs": [
        {
          "output_type": "stream",
          "name": "stdout",
          "text": [
            "\n",
            "New Temperatures to predict: [65 82 78 72]\n",
            "Predicted Labels (0=Cold, 1=Hot): [0 1 0 0]\n",
            "Predicted:  ['Cold' 'Hot' 'Cold' 'Cold']\n",
            "\n",
            "Our rule correctly predicted 6 out of 6 (Accuracy: 100.00%)\n"
          ]
        }
      ]
    },
    {
      "cell_type": "code",
      "source": [],
      "metadata": {
        "id": "zyRgAqjNgGpg"
      },
      "execution_count": null,
      "outputs": []
    }
  ]
}