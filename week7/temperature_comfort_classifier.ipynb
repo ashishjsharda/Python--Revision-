{
  "nbformat": 4,
  "nbformat_minor": 0,
  "metadata": {
    "colab": {
      "provenance": []
    },
    "kernelspec": {
      "name": "python3",
      "display_name": "Python 3"
    },
    "language_info": {
      "name": "python"
    }
  },
  "cells": [
    {
      "cell_type": "code",
      "execution_count": 1,
      "metadata": {
        "colab": {
          "base_uri": "https://localhost:8080/"
        },
        "id": "BMjBZRqHgIhQ",
        "outputId": "e6b0960f-a001-4630-eb03-5a633759fbcf"
      },
      "outputs": [
        {
          "output_type": "stream",
          "name": "stdout",
          "text": [
            "Training Dataset:\n",
            "  60°F → Uncomfortable\n",
            "  70°F → Comfortable\n",
            "  72°F → Comfortable\n",
            "  68°F → Comfortable\n",
            "  78°F → Uncomfortable\n",
            "  75°F → Comfortable\n",
            "  82°F → Uncomfortable\n",
            "  65°F → Uncomfortable\n",
            "\n",
            "Optimal comfort range: 66°F - 75°F\n",
            "Training accuracy: 100.00%\n",
            "\n",
            "Predictions for new temperatures:\n",
            "  66°F → Comfortable\n",
            "  73°F → Comfortable\n",
            "  79°F → Uncomfortable\n",
            "  85°F → Uncomfortable\n"
          ]
        }
      ],
      "source": [
        "import numpy as np\n",
        "import matplotlib.pyplot as plt\n",
        "from sklearn.metrics import accuracy_score, classification_report\n",
        "\n",
        "# Dataset\n",
        "temperatures = np.array([60, 70, 72, 68, 78, 75, 82, 65])\n",
        "comfort_labels = np.array([0, 1, 1, 1, 0, 1, 0, 0])  # 0=Uncomfortable, 1=Comfortable\n",
        "\n",
        "print(\"Training Dataset:\")\n",
        "for temp, comfort in zip(temperatures, comfort_labels):\n",
        "    status = \"Comfortable\" if comfort == 1 else \"Uncomfortable\"\n",
        "    print(f\"  {temp}°F → {status}\")\n",
        "\n",
        "# Simple threshold-based approach\n",
        "def find_optimal_threshold(temps, labels):\n",
        "    best_threshold = None\n",
        "    best_accuracy = 0\n",
        "\n",
        "    for threshold_low in range(65, 75):\n",
        "        for threshold_high in range(75, 80):\n",
        "            # Define comfort zone\n",
        "            predictions = ((temps >= threshold_low) & (temps <= threshold_high)).astype(int)\n",
        "            accuracy = accuracy_score(labels, predictions)\n",
        "\n",
        "            if accuracy > best_accuracy:\n",
        "                best_accuracy = accuracy\n",
        "                best_threshold = (threshold_low, threshold_high)\n",
        "\n",
        "    return best_threshold, best_accuracy\n",
        "\n",
        "optimal_range, accuracy = find_optimal_threshold(temperatures, comfort_labels)\n",
        "print(f\"\\nOptimal comfort range: {optimal_range[0]}°F - {optimal_range[1]}°F\")\n",
        "print(f\"Training accuracy: {accuracy:.2%}\")\n",
        "\n",
        "# Apply the rule\n",
        "predictions = ((temperatures >= optimal_range[0]) &\n",
        "               (temperatures <= optimal_range[1])).astype(int)\n",
        "\n",
        "# Test on new data\n",
        "new_temperatures = np.array([66, 73, 79, 85])\n",
        "new_predictions = ((new_temperatures >= optimal_range[0]) &\n",
        "                   (new_temperatures <= optimal_range[1])).astype(int)\n",
        "\n",
        "print(\"\\nPredictions for new temperatures:\")\n",
        "for temp, pred in zip(new_temperatures, new_predictions):\n",
        "    status = \"Comfortable\" if pred == 1 else \"Uncomfortable\"\n",
        "    print(f\"  {temp}°F → {status}\")"
      ]
    }
  ]
}