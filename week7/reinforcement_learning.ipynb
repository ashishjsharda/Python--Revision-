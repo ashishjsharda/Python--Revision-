{
  "nbformat": 4,
  "nbformat_minor": 0,
  "metadata": {
    "colab": {
      "provenance": []
    },
    "kernelspec": {
      "name": "python3",
      "display_name": "Python 3"
    },
    "language_info": {
      "name": "python"
    }
  },
  "cells": [
    {
      "cell_type": "code",
      "source": [
        "import numpy as np\n",
        "\n",
        "def robo_buddy_learns_np():\n",
        "    # These are the things Robo-Buddy can do (actions)\n",
        "    actions = [\"say 'hello'\", \"sing a song\", \"do a dance\"]\n",
        "    # This is where Robo-Buddy stores his \"belief\" about how good each action is (Q-values)\n",
        "    action_values = np.zeros(len(actions))\n",
        "    # These are the secret true rewards the \"environment\" gives\n",
        "    true_rewards = [5, 10, 2]\n",
        "\n",
        "    # Robo-Buddy tries things many times to learn better\n",
        "    for _ in range(50): # We increased the trials for better learning!\n",
        "        chosen_idx = np.random.randint(len(actions)) # Robo-Buddy picks an action randomly (exploring)\n",
        "        reward = true_rewards[chosen_idx] # He gets his reward from the secret list\n",
        "\n",
        "        # This is how Robo-Buddy updates his \"belief\" (Q-value) about an action\n",
        "        # It's like a tiny step of learning, where 0.1 is the \"learning rate\"\n",
        "        action_values[chosen_idx] += 0.1 * (reward - action_values[chosen_idx])\n",
        "\n",
        "    # After trying many times, Robo-Buddy finds the action he thinks is best\n",
        "    best_action_idx = np.argmax(action_values)\n",
        "    print(f\"Robo-Buddy's learned values for actions: {action_values.round(2)}\")\n",
        "    print(f\"Based on learning, Robo-Buddy thinks his best action is: '{actions[best_action_idx]}'\")\n",
        "\n",
        "\n",
        "robo_buddy_learns_np()\n"
      ],
      "metadata": {
        "colab": {
          "base_uri": "https://localhost:8080/"
        },
        "id": "rQ7lyXmX2-G6",
        "outputId": "093040c5-dc2f-4498-851d-b1af9e371664"
      },
      "execution_count": 7,
      "outputs": [
        {
          "output_type": "stream",
          "name": "stdout",
          "text": [
            "Robo-Buddy's learned values for actions: [3.43 8.78 1.73]\n",
            "Based on learning, Robo-Buddy thinks his best action is: 'sing a song'\n"
          ]
        }
      ]
    }
  ]
}