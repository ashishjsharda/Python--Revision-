{
  "nbformat": 4,
  "nbformat_minor": 0,
  "metadata": {
    "colab": {
      "provenance": []
    },
    "kernelspec": {
      "name": "python3",
      "display_name": "Python 3"
    },
    "language_info": {
      "name": "python"
    }
  },
  "cells": [
    {
      "cell_type": "code",
      "source": [
        "import pandas as pd\n",
        "\n",
        "df = pd.read_csv(\"users.csv\")\n",
        "print(df[df[\"age\"] > 30])\n"
      ],
      "metadata": {
        "colab": {
          "base_uri": "https://localhost:8080/"
        },
        "id": "Y1TxYzqUltdt",
        "outputId": "9313030e-ad60-4018-a366-c1cbedcbf846"
      },
      "execution_count": 1,
      "outputs": [
        {
          "output_type": "stream",
          "name": "stdout",
          "text": [
            "      name             email  age\n",
            "1      Bob   bob@example.com   35\n",
            "2  Charlie               NaN   42\n",
            "4      NaN  emma@example.com   31\n"
          ]
        }
      ]
    }
  ]
}