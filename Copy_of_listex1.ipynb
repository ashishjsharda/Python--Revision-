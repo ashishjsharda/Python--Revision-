{
  "nbformat": 4,
  "nbformat_minor": 0,
  "metadata": {
    "colab": {
      "provenance": []
    },
    "kernelspec": {
      "name": "python3",
      "display_name": "Python 3"
    },
    "language_info": {
      "name": "python"
    }
  },
  "cells": [
    {
      "cell_type": "code",
      "source": [
        "def filter_even(numbers):\n",
        "    def is_even(x):\n",
        "        return x % 2 == 0\n",
        "    return [num for num in numbers if is_even(num)]\n",
        "\n",
        "print(filter_even([1, 2, 3, 4, 5, 6, 7, 8, 9, 10]))"
      ],
      "metadata": {
        "colab": {
          "base_uri": "https://localhost:8080/"
        },
        "id": "wnasdUVcaAte",
        "outputId": "8f7d38a4-8504-4cf4-f4d1-4f2e31f95078"
      },
      "execution_count": null,
      "outputs": [
        {
          "output_type": "stream",
          "name": "stdout",
          "text": [
            "[2, 4, 6, 8, 10]\n"
          ]
        }
      ]
    }
  ]
}